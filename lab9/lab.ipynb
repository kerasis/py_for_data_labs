{
 "cells": [
  {
   "cell_type": "code",
   "execution_count": 1,
   "id": "5d428279-650b-48a7-b646-eb5ace316686",
   "metadata": {},
   "outputs": [
    {
     "name": "stdout",
     "output_type": "stream",
     "text": [
      "Collecting openpyxl\n",
      "  Downloading openpyxl-3.1.5-py2.py3-none-any.whl.metadata (2.5 kB)\n",
      "Collecting et-xmlfile (from openpyxl)\n",
      "  Downloading et_xmlfile-2.0.0-py3-none-any.whl.metadata (2.7 kB)\n",
      "Downloading openpyxl-3.1.5-py2.py3-none-any.whl (250 kB)\n",
      "Downloading et_xmlfile-2.0.0-py3-none-any.whl (18 kB)\n",
      "Installing collected packages: et-xmlfile, openpyxl\n",
      "Successfully installed et-xmlfile-2.0.0 openpyxl-3.1.5\n",
      "Note: you may need to restart the kernel to use updated packages.\n"
     ]
    },
    {
     "name": "stderr",
     "output_type": "stream",
     "text": [
      "\n",
      "[notice] A new release of pip is available: 24.2 -> 24.3.1\n",
      "[notice] To update, run: python.exe -m pip install --upgrade pip\n"
     ]
    }
   ],
   "source": [
    "%pip install openpyxl"
   ]
  },
  {
   "cell_type": "code",
   "execution_count": 47,
   "id": "49294bfe-cad5-4986-9ba1-962442bf0997",
   "metadata": {},
   "outputs": [
    {
     "name": "stdout",
     "output_type": "stream",
     "text": [
      "{'Таб. номер': '0002', 'Фамилия': 'Петров П.П.', 'Отдел': 'Бухгалтерия', 'Сумма по окладу': 3913.04, 'Сумма по надбавкам': 2608.7, 'Сумма зарплаты': 6521.74, 'НДФЛ, %': 13, 'Сумма НДФЛ': 847.83, 'Сумма к выдаче': 5673.91}\n",
      "{'Таб. номер': '0005', 'Фамилия': 'Васин В.В.', 'Отдел': 'Бухгалтерия', 'Сумма по окладу': 5934.78, 'Сумма по надбавкам': 913.04, 'Сумма зарплаты': 6847.83, 'НДФЛ, %': 13, 'Сумма НДФЛ': 890.22, 'Сумма к выдаче': 5957.61}\n",
      "{'Таб. номер': '0001', 'Фамилия': 'Иванов И.И.', 'Отдел': 'Отдел кадров', 'Сумма по окладу': 6000.0, 'Сумма по надбавкам': 4000.0, 'Сумма зарплаты': 10000.0, 'НДФЛ, %': 13, 'Сумма НДФЛ': 1300.0, 'Сумма к выдаче': 8700.0}\n",
      "{'Таб. номер': '0003', 'Фамилия': 'Сидоров С.С.', 'Отдел': 'Отдел кадров', 'Сумма по окладу': 5000.0, 'Сумма по надбавкам': 4500.0, 'Сумма зарплаты': 9500.0, 'НДФЛ, %': 13, 'Сумма НДФЛ': 1235.0, 'Сумма к выдаче': 8265.0}\n",
      "{'Таб. номер': '0006', 'Фамилия': 'Львов Л.Л.', 'Отдел': 'Отдел кадров', 'Сумма по окладу': 4074.07, 'Сумма по надбавкам': 2444.44, 'Сумма зарплаты': 6518.52, 'НДФЛ, %': 13, 'Сумма НДФЛ': 847.41, 'Сумма к выдаче': 5671.11}\n",
      "{'Таб. номер': '0007', 'Фамилия': 'Волков В.В.', 'Отдел': 'Отдел кадров', 'Сумма по окладу': 1434.78, 'Сумма по надбавкам': 1434.78, 'Сумма зарплаты': 2869.57, 'НДФЛ, %': 13, 'Сумма НДФЛ': 373.04, 'Сумма к выдаче': 2496.53}\n",
      "{'Таб. номер': '0004', 'Фамилия': 'Мишин М.М.', 'Отдел': 'Столовая', 'Сумма по окладу': 5500.0, 'Сумма по надбавкам': 3500.0, 'Сумма зарплаты': 9000.0, 'НДФЛ, %': 13, 'Сумма НДФЛ': 1170.0, 'Сумма к выдаче': 7830.0}\n"
     ]
    }
   ],
   "source": [
    "from openpyxl import Workbook\n",
    "\n",
    "data_dict = [\n",
    "    {\"Таб. номер\": \"0002\", \"Фамилия\": \"Петров П.П.\", \"Отдел\": \"Бухгалтерия\", \"Сумма по окладу\": 3913.04, \"Сумма по надбавкам\": 2608.70, \"Сумма зарплаты\": 6521.74, \"НДФЛ, %\": 13},\n",
    "    {\"Таб. номер\": \"0005\", \"Фамилия\": \"Васин В.В.\", \"Отдел\": \"Бухгалтерия\", \"Сумма по окладу\": 5934.78, \"Сумма по надбавкам\": 913.04, \"Сумма зарплаты\": 6847.83, \"НДФЛ, %\": 13},\n",
    "    {\"Таб. номер\": \"0001\", \"Фамилия\": \"Иванов И.И.\", \"Отдел\": \"Отдел кадров\", \"Сумма по окладу\": 6000.00, \"Сумма по надбавкам\": 4000.00, \"Сумма зарплаты\": 10000.00, \"НДФЛ, %\": 13},\n",
    "    {\"Таб. номер\": \"0003\", \"Фамилия\": \"Сидоров С.С.\", \"Отдел\": \"Отдел кадров\", \"Сумма по окладу\": 5000.00, \"Сумма по надбавкам\": 4500.00, \"Сумма зарплаты\": 9500.00, \"НДФЛ, %\": 13},\n",
    "    {\"Таб. номер\": \"0006\", \"Фамилия\": \"Львов Л.Л.\", \"Отдел\": \"Отдел кадров\", \"Сумма по окладу\": 4074.07, \"Сумма по надбавкам\": 2444.44, \"Сумма зарплаты\": 6518.52, \"НДФЛ, %\": 13},\n",
    "    {\"Таб. номер\": \"0007\", \"Фамилия\": \"Волков В.В.\", \"Отдел\": \"Отдел кадров\", \"Сумма по окладу\": 1434.78, \"Сумма по надбавкам\": 1434.78, \"Сумма зарплаты\": 2869.57, \"НДФЛ, %\": 13},\n",
    "    {\"Таб. номер\": \"0004\", \"Фамилия\": \"Мишин М.М.\", \"Отдел\": \"Столовая\", \"Сумма по окладу\": 5500.00, \"Сумма по надбавкам\": 3500.00, \"Сумма зарплаты\": 9000.00, \"НДФЛ, %\": 13},\n",
    "]\n",
    "\n",
    "for row in data_dict:\n",
    "    row[\"Сумма НДФЛ\"] = round(row[\"Сумма зарплаты\"] * row[\"НДФЛ, %\"] / 100, 2)\n",
    "    row[\"Сумма к выдаче\"] = round(row[\"Сумма зарплаты\"] - row[\"Сумма НДФЛ\"], 2)\n",
    "\n",
    "for row in data_dict:\n",
    "    print(row)\n"
   ]
  },
  {
   "cell_type": "code",
   "execution_count": 48,
   "id": "a7c30bce-e7a0-40ab-bdb3-eb50de373236",
   "metadata": {},
   "outputs": [
    {
     "name": "stdout",
     "output_type": "stream",
     "text": [
      "{'Бухгалтерия': {'Сумма по окладу': 9847.82, 'Сумма по надбавкам': 3521.74, 'Сумма зарплаты': 13369.57, 'Сумма НДФЛ': 1738.0500000000002, 'Сумма к выдаче': 11631.52}, 'Отдел кадров': {'Сумма по окладу': 16508.85, 'Сумма по надбавкам': 12379.220000000001, 'Сумма зарплаты': 28888.09, 'Сумма НДФЛ': 3755.45, 'Сумма к выдаче': 25132.64}, 'Столовая': {'Сумма по окладу': 5500.0, 'Сумма по надбавкам': 3500.0, 'Сумма зарплаты': 9000.0, 'Сумма НДФЛ': 1170.0, 'Сумма к выдаче': 7830.0}}\n"
     ]
    }
   ],
   "source": [
    "def calculate_totals(data):\n",
    "    totals = {}\n",
    "    for row in data:\n",
    "        department = row[\"Отдел\"]\n",
    "        if department not in totals:\n",
    "            totals[department] = {\"Сумма по окладу\": 0, \"Сумма по надбавкам\": 0, \"Сумма зарплаты\": 0, \"Сумма НДФЛ\": 0, \"Сумма к выдаче\": 0}\n",
    "        totals[department][\"Сумма по окладу\"] += row[\"Сумма по окладу\"]\n",
    "        totals[department][\"Сумма по надбавкам\"] += row[\"Сумма по надбавкам\"]\n",
    "        totals[department][\"Сумма зарплаты\"] += row[\"Сумма зарплаты\"]\n",
    "        totals[department][\"Сумма НДФЛ\"] += row[\"Сумма НДФЛ\"]\n",
    "        totals[department][\"Сумма к выдаче\"] += row[\"Сумма к выдаче\"]\n",
    "        \n",
    "    return totals\n",
    "\n",
    "# Итоги по отделам\n",
    "totals = calculate_totals(data_dict)\n",
    "print(totals)\n"
   ]
  },
  {
   "cell_type": "code",
   "execution_count": 74,
   "id": "657f284d-f501-4a4e-9571-890012a43b78",
   "metadata": {},
   "outputs": [],
   "source": [
    "wb = Workbook()\n",
    "ws = wb.active\n",
    "ws.title = \"my\"\n",
    "\n",
    "\n",
    "headers = [\"Таб. номер\", \"Фамилия\", \"Отдел\", \"Сумма по окладу, руб.\", \"Сумма по надбавкам, руб.\", \"Сумма зарплаты, руб.\", \"НДФЛ, %\", \"Сумма НДФЛ\", \"Сумма к выдаче, руб.\"]\n",
    "ws.append(headers)\n",
    "\n",
    "row_num = 2\n",
    "for department in totals.keys():\n",
    "    for row in data_dict:\n",
    "        if row[\"Отдел\"] == department:\n",
    "            info = []\n",
    "            for key in row.keys():\n",
    "                info.append(row[key])\n",
    "            ws.append(info)\n",
    "            row_num += 1\n",
    "  \n",
    "    total_row = [\"\", \"\", f\"{department} итог\", totals[department][\"Сумма по окладу\"], totals[department][\"Сумма по надбавкам\"], totals[department][\"Сумма зарплаты\"], 13, totals[department][\"Сумма НДФЛ\"], totals[department][\"Сумма к выдаче\"]]\n",
    "   \n",
    "    total_row += [\"\"] * (len(headers) - len(total_row))\n",
    "    ws.append(total_row)\n",
    "    row_num += 1\n",
    "\n",
    "\n",
    "total_sums = {\n",
    "    \"Сумма по окладу\": 0,\n",
    "    \"Сумма по надбавкам\": 0,\n",
    "    \"Сумма зарплаты\": 0,\n",
    "    \"Сумма НДФЛ\": 0,\n",
    "    \"Сумма к выдаче\": 0,\n",
    "}\n",
    "for department_totals in totals.values():\n",
    "    for key in total_sums:\n",
    "        total_sums[key] += department_totals[key]\n",
    "\n",
    "\n",
    "total_total_row = [\"\", \"\", \"Итого\", total_sums[\"Сумма по окладу\"], total_sums[\"Сумма по надбавкам\"], total_sums[\"Сумма зарплаты\"], 13, total_sums[\"Сумма НДФЛ\"], total_sums[\"Сумма к выдаче\"]]\n",
    "ws.append(total_total_row)\n",
    "\n",
    "wb.save(\"my.xlsx\")"
   ]
  },
  {
   "cell_type": "markdown",
   "id": "e009826e-ecfa-44e8-934a-fa9190634176",
   "metadata": {},
   "source": [
    "\n",
    "2 задание\n"
   ]
  },
  {
   "cell_type": "code",
   "execution_count": 75,
   "id": "3f56f1fe-6339-44fe-8d7e-9fe6fe7fb535",
   "metadata": {},
   "outputs": [],
   "source": [
    "from openpyxl import load_workbook\n",
    "wb = load_workbook(\"my.xlsx\")\n",
    "ws = wb.active\n",
    "data = []\n",
    "for row in ws.iter_rows(min_row=2, values_only=True):\n",
    "    if row[0] or row[1]: \n",
    "        data.append(row)\n",
    "\n",
    "max_salary = max(data, key=lambda x: x[5])  # x[5] — Сумма зарплаты\n",
    "min_salary = min(data, key=lambda x: x[5])\n",
    "\n",
    "departments = {}\n",
    "for row in data:\n",
    "    department = row[2] \n",
    "    if department not in departments:\n",
    "        departments[department] = {\"total_salary\": 0, \"count\": 0}\n",
    "    departments[department][\"total_salary\"] += row[5]  \n",
    "    departments[department][\"count\"] += 1\n",
    "\n",
    "average_salaries = {dep: round(values[\"total_salary\"] / values[\"count\"], 2) for dep, values in departments.items()}"
   ]
  },
  {
   "cell_type": "code",
   "execution_count": 76,
   "id": "d78aa995-831a-4c29-8839-d8bf05142cc3",
   "metadata": {},
   "outputs": [
    {
     "name": "stdout",
     "output_type": "stream",
     "text": [
      "Максимальная зарплата: Иванов И.И. (10000 руб.)\n",
      "Минимальная зарплата: Волков В.В. (2869.57 руб.)\n",
      "Средняя зарплата по отделам:\n",
      "  Бухгалтерия: 6684.78 руб.\n",
      "  Отдел кадров: 7222.02 руб.\n",
      "  Столовая: 9000.0 руб.\n"
     ]
    }
   ],
   "source": [
    "print(f\"Максимальная зарплата: {max_salary[1]} ({max_salary[5]} руб.)\")\n",
    "print(f\"Минимальная зарплата: {min_salary[1]} ({min_salary[5]} руб.)\")\n",
    "print(\"Средняя зарплата по отделам:\")\n",
    "for department, avg_salary in average_salaries.items():\n",
    "    print(f\"  {department}: {avg_salary} руб.\")"
   ]
  },
  {
   "cell_type": "code",
   "execution_count": 77,
   "id": "e717308a-998b-4417-a0bf-dd3b1ac7318c",
   "metadata": {},
   "outputs": [],
   "source": [
    "# Запись\n",
    "start_row = 14\n",
    "start_col = 2\n",
    "\n",
    "ws.cell(row=start_row, column=start_col, value=\"Наименование\")\n",
    "ws.cell(row=start_row, column=start_col + 1, value=\"Значение\")\n",
    "\n",
    "ws.cell(row=start_row + 1, column=start_col, value=\"Максимальная зарплата\")\n",
    "ws.cell(row=start_row + 1, column=start_col + 1, value=f\"{max_salary[1]} ({max_salary[5]} руб.)\")\n",
    "\n",
    "ws.cell(row=start_row + 2, column=start_col, value=\"Минимальная зарплата\")\n",
    "ws.cell(row=start_row + 2, column=start_col + 1, value=f\"{min_salary[1]} ({min_salary[5]} руб.)\")\n",
    "\n",
    "current_row = start_row + 4\n",
    "ws.cell(row=current_row - 1, column=start_col, value=\"Средняя зарплата по отделам\")\n",
    "for department, avg_salary in average_salaries.items():\n",
    "    ws.cell(row=current_row, column=start_col, value=department)\n",
    "    ws.cell(row=current_row, column=start_col + 1, value=avg_salary)\n",
    "    current_row += 1\n"
   ]
  },
  {
   "cell_type": "code",
   "execution_count": 78,
   "id": "8ed36014-1653-4395-82c2-4501bd23e194",
   "metadata": {},
   "outputs": [],
   "source": [
    "from openpyxl.chart import PieChart, Reference\n",
    "\n",
    "\n",
    "\n",
    "# Убедимся, что данные о средней зарплате по отделам находятся в ячейках B18:C20\n",
    "# В B18:B20 находятся наименования отделов (Бухгалтерия, Отдел кадров, Столовая)\n",
    "# В C18:C20 — средние зарплаты этих отделов\n",
    "\n",
    "# Создаем круговую диаграмму\n",
    "pie = PieChart()\n",
    "\n",
    "# Данные для диаграммы: диапазон C18:C20 (средние зарплаты)\n",
    "data = Reference(ws, min_col=3, min_row=17, max_row=20)\n",
    "\n",
    "# Категории для диаграммы: диапазон B18:B20 (названия отделов)\n",
    "categories = Reference(ws, min_col=2, min_row=18, max_row=20)\n",
    "\n",
    "# Добавляем данные и категории в диаграмму\n",
    "pie.add_data(data, titles_from_data=True)\n",
    "pie.set_categories(categories)\n",
    "\n",
    "# Размещаем диаграмму правее таблицы, начиная с ячейки E18\n",
    "ws.add_chart(pie, \"E18\")\n",
    "wb.save(\"my.xlsx\")"
   ]
  },
  {
   "cell_type": "code",
   "execution_count": null,
   "id": "f3c4149a-1b4d-41ff-a90f-10f4e508f32c",
   "metadata": {},
   "outputs": [],
   "source": []
  }
 ],
 "metadata": {
  "kernelspec": {
   "display_name": "Python 3 (ipykernel)",
   "language": "python",
   "name": "python3"
  },
  "language_info": {
   "codemirror_mode": {
    "name": "ipython",
    "version": 3
   },
   "file_extension": ".py",
   "mimetype": "text/x-python",
   "name": "python",
   "nbconvert_exporter": "python",
   "pygments_lexer": "ipython3",
   "version": "3.12.5"
  }
 },
 "nbformat": 4,
 "nbformat_minor": 5
}
