{
 "cells": [
  {
   "cell_type": "code",
   "execution_count": 7,
   "id": "bb2511b3-0730-4075-b2fc-4565be0ed6f1",
   "metadata": {},
   "outputs": [],
   "source": [
    "import sqlite3 as sq"
   ]
  },
  {
   "cell_type": "code",
   "execution_count": 8,
   "id": "7b118132-0898-4b91-92f9-7b4f33398946",
   "metadata": {},
   "outputs": [],
   "source": [
    "conn = sq.connect('my_db.db')\n",
    "cur = conn.cursor()\n",
    "\n",
    "cur.execute('''CREATE TABLE IF NOT EXISTS получатель(\n",
    "    код_получателя INT PRIMARY KEY,\n",
    "    фамилия TEXT,\n",
    "    имя TEXT,\n",
    "    отчество TEXT,\n",
    "    дата_рождения TEXT,\n",
    "    индекс INT,\n",
    "    город TEXT,\n",
    "    улица TEXT,\n",
    "    дом INT,\n",
    "    квартира INT,\n",
    "    телефон TEXT);\n",
    "''')\n",
    "conn.commit()"
   ]
  },
  {
   "cell_type": "code",
   "execution_count": 9,
   "id": "f7d28ac6-8ec8-42c0-b80a-08c1019a12d5",
   "metadata": {},
   "outputs": [],
   "source": [
    "cur.execute('''CREATE TABLE IF NOT EXISTS курьер(\n",
    "    код_курьера INT PRIMARY KEY,\n",
    "    фамилия TEXT,\n",
    "    имя TEXT,\n",
    "    отчество TEXT,\n",
    "    номер_паспорта INT,\n",
    "    дата_рождения TEXT,\n",
    "    дата_приема_на_работу TEXT,\n",
    "    начало_рабочего_дня TEXT,\n",
    "    конец_рабочего_дня TEXT,\n",
    "    город TEXT,\n",
    "    улица TEXT,\n",
    "    дом INT,\n",
    "    квартира INT,\n",
    "    телефон TEXT);\n",
    "''')\n",
    "conn.commit()"
   ]
  },
  {
   "cell_type": "code",
   "execution_count": 10,
   "id": "c2f1b726-0ff1-48c8-bec0-a8e95f06fae3",
   "metadata": {},
   "outputs": [],
   "source": [
    "courier = ('01', 'Иванов', 'Иван', 'Иванович', '123123','10-10-2000','29-11-2024','8:00','16:00','Калиниград','Пушкина','10','10','8-800-555-35-35')\n",
    "recipient = ('01', 'Степанов', 'Степан', 'Степанович', '05-05-2005', '23017','Калининград','Степана Разина','9','9','8-918-123-12-12')\n",
    "\n",
    "cur.execute(\"INSERT INTO получатель VALUES(?, ?, ?, ?, ?, ?, ?, ?, ?, ?, ?);\", recipient)\n",
    "conn.commit()\n",
    "\n",
    "cur.execute(\"INSERT INTO курьер VALUES(?, ?, ?, ?, ?, ?, ?, ?, ?, ?, ?, ?, ?, ?);\", courier)\n",
    "conn.commit()"
   ]
  },
  {
   "cell_type": "code",
   "execution_count": 14,
   "id": "807e06c0-c56b-4e19-87a5-846260bea3be",
   "metadata": {},
   "outputs": [
    {
     "name": "stdout",
     "output_type": "stream",
     "text": [
      "(1, 'Иванов', 'Иван', 'Иванович', 123123, '10-10-2000', '29-11-2024', '8:00', '16:00', 'Калиниград', 'Пушкина', 10, 10, '8-800-555-35-35')\n"
     ]
    }
   ],
   "source": [
    "cur.execute(\"SELECT * from курьер;\")\n",
    "a = cur.fetchone()\n",
    "print(a)"
   ]
  },
  {
   "cell_type": "code",
   "execution_count": 15,
   "id": "7167b47d-a764-4fc2-9736-642fa4c49349",
   "metadata": {},
   "outputs": [
    {
     "name": "stdout",
     "output_type": "stream",
     "text": [
      "(1, 'Степанов', 'Степан', 'Степанович', '05-05-2005', 23017, 'Калининград', 'Степана Разина', 9, 9, '8-918-123-12-12')\n"
     ]
    }
   ],
   "source": [
    "cur.execute(\"SELECT * from получатель;\")\n",
    "a = cur.fetchone()\n",
    "print(a)"
   ]
  },
  {
   "cell_type": "code",
   "execution_count": 16,
   "id": "ef57739d-64a3-4655-bf84-e07c852d386b",
   "metadata": {},
   "outputs": [],
   "source": [
    "cur.execute('''\n",
    "    UPDATE получатель\n",
    "    SET город = ?, улица = ?, дом = ?, квартира = ?\n",
    "    WHERE код_получателя = ?;\n",
    "''', ('Москва', 'Ленина', '15', '12', '1'))\n",
    "conn.commit()"
   ]
  },
  {
   "cell_type": "code",
   "execution_count": 17,
   "id": "8b54227d-b927-447c-8ab7-eae44b008cf7",
   "metadata": {},
   "outputs": [
    {
     "name": "stdout",
     "output_type": "stream",
     "text": [
      "(1, 'Степанов', 'Степан', 'Степанович', '05-05-2005', 23017, 'Москва', 'Ленина', 15, 12, '8-918-123-12-12')\n"
     ]
    }
   ],
   "source": [
    "cur.execute(\"SELECT * from получатель;\")\n",
    "a = cur.fetchone()\n",
    "print(a)"
   ]
  },
  {
   "cell_type": "code",
   "execution_count": 18,
   "id": "a10fcfc8-bfa3-4a0a-b55d-5679e021db9c",
   "metadata": {},
   "outputs": [],
   "source": [
    "conn.close()"
   ]
  },
  {
   "cell_type": "markdown",
   "id": "64fdf320-7572-4552-908f-b58d0ffdba75",
   "metadata": {},
   "source": [
    "2 задание\n"
   ]
  },
  {
   "cell_type": "code",
   "execution_count": 20,
   "id": "a1661442-708b-4449-9244-5c91bd5989f2",
   "metadata": {},
   "outputs": [
    {
     "name": "stdout",
     "output_type": "stream",
     "text": [
      "Collecting peewee\n",
      "  Downloading peewee-3.17.8.tar.gz (948 kB)\n",
      "     ---------------------------------------- 0.0/948.2 kB ? eta -:--:--\n",
      "     --------------------- ---------------- 524.3/948.2 kB 5.6 MB/s eta 0:00:01\n",
      "     -------------------------------------- 948.2/948.2 kB 8.8 MB/s eta 0:00:00\n",
      "  Installing build dependencies: started\n",
      "  Installing build dependencies: finished with status 'done'\n",
      "  Getting requirements to build wheel: started\n",
      "  Getting requirements to build wheel: finished with status 'done'\n",
      "  Preparing metadata (pyproject.toml): started\n",
      "  Preparing metadata (pyproject.toml): finished with status 'done'\n",
      "Building wheels for collected packages: peewee\n",
      "  Building wheel for peewee (pyproject.toml): started\n",
      "  Building wheel for peewee (pyproject.toml): finished with status 'done'\n",
      "  Created wheel for peewee: filename=peewee-3.17.8-py3-none-any.whl size=139012 sha256=1eb67b574d914058131866745c2f2118c5d93f7228af9fc87ec783b94cdb8639\n",
      "  Stored in directory: c:\\users\\user\\appdata\\local\\pip\\cache\\wheels\\8f\\65\\34\\456800445efeafb05164fe95285c70e81ba1d96bae30f43917\n",
      "Successfully built peewee\n",
      "Installing collected packages: peewee\n",
      "Successfully installed peewee-3.17.8\n",
      "Note: you may need to restart the kernel to use updated packages.\n"
     ]
    },
    {
     "name": "stderr",
     "output_type": "stream",
     "text": [
      "\n",
      "[notice] A new release of pip is available: 24.2 -> 24.3.1\n",
      "[notice] To update, run: python.exe -m pip install --upgrade pip\n"
     ]
    }
   ],
   "source": [
    "%pip install peewee"
   ]
  },
  {
   "cell_type": "code",
   "execution_count": 21,
   "id": "36a901fe-3e78-444e-873d-b526bcc0a738",
   "metadata": {},
   "outputs": [],
   "source": [
    "from peewee import*\n",
    "\n",
    "db = SqliteDatabase('my_db.db')\n",
    "\n",
    "class транспорт(Model):\n",
    "    номер_машины = IntegerField(primary_key = True)\n",
    "    марка = TextField()\n",
    "    дата_регистрации = TextField()\n",
    "    цвет = TextField()\n",
    "\n",
    "    class Meta:\n",
    "        database = db\n",
    "        table_name = 'транспорт'\n",
    "\n",
    "\n",
    "class отправитель(Model):\n",
    "    код_отправителя = IntegerField(primary_key = True)\n",
    "    фамилия = TextField()\n",
    "    имя = TextField()\n",
    "    отчество = TextField()\n",
    "    дата_рождения = TextField()\n",
    "    индекс = IntegerField()\n",
    "    город = TextField()\n",
    "    улица = TextField()\n",
    "    дом = IntegerField()\n",
    "    квартира = IntegerField()\n",
    "    телефон = TextField()\n",
    "    \n",
    "    class Meta:\n",
    "        database = db\n",
    "        table_name = 'отправитель'"
   ]
  },
  {
   "cell_type": "code",
   "execution_count": 25,
   "id": "6347256d-5701-4043-9710-e8fe4cd7f0c0",
   "metadata": {},
   "outputs": [],
   "source": [
    "class получатель(Model):  ##доопределим тк peewee ругается когда в связях пытаюсь ссылаться \n",
    "                          ##на класс таблицы, которую модуль peewee не видел\n",
    "    код_получателя = IntegerField(primary_key=True)\n",
    "    фамилия = TextField()\n",
    "    имя = TextField()\n",
    "    отчество = TextField()\n",
    "    дата_рождения = TextField()\n",
    "    индекс = IntegerField()\n",
    "    город = TextField()\n",
    "    улица = TextField()\n",
    "    дом = IntegerField()\n",
    "    квартира = IntegerField()\n",
    "    телефон = TextField()\n",
    "\n",
    "    class Meta:\n",
    "        database = db\n",
    "        table_name = 'получатель'  \n",
    "\n",
    "class курьер(Model):\n",
    "    код_курьера = IntegerField(primary_key=True)  \n",
    "    фамилия = TextField()\n",
    "    имя = TextField()\n",
    "    отчество = TextField()\n",
    "    номер_паспорта = IntegerField()\n",
    "    дата_рождения = TextField()\n",
    "    дата_приема_на_работу = TextField()\n",
    "    начало_рабочего_дня = TextField()\n",
    "    конец_рабочего_дня = TextField()\n",
    "    город = TextField()\n",
    "    улица = TextField()\n",
    "    дом = IntegerField()\n",
    "    квартира = IntegerField()\n",
    "    телефон = TextField()\n",
    "\n",
    "    class Meta:\n",
    "        database = db  \n",
    "        table_name = 'курьер' "
   ]
  },
  {
   "cell_type": "code",
   "execution_count": 27,
   "id": "9aefee45-ae86-4aac-b761-1699003058d5",
   "metadata": {},
   "outputs": [],
   "source": [
    "class заказ(Model):\n",
    "    код_заказа = IntegerField(primary_key=True)\n",
    "    отправитель = ForeignKeyField(отправитель, backref='заказы', on_delete='CASCADE')\n",
    "    получатель = ForeignKeyField(получатель, backref='заказы', on_delete='CASCADE')\n",
    "    дата_заказа = TextField()\n",
    "    дата_доставки = TextField()\n",
    "    цена_доставки = FloatField()\n",
    "    курьер = ForeignKeyField(курьер, backref='заказы', on_delete='CASCADE')\n",
    "    транспорт = ForeignKeyField(транспорт, backref='заказы', on_delete='CASCADE')\n",
    "\n",
    "    class Meta:\n",
    "        database = db\n",
    "        table_name = 'заказ'\n",
    "\n",
    "\n",
    "db.connect()\n",
    "db.create_tables([курьер, отправитель, получатель, транспорт, заказ], safe=True) ##safe предотвращает пересоздание"
   ]
  },
  {
   "cell_type": "code",
   "execution_count": 28,
   "id": "9168fef2-437b-4922-a918-e5f7b622bd7f",
   "metadata": {},
   "outputs": [
    {
     "data": {
      "text/plain": [
       "1"
      ]
     },
     "execution_count": 28,
     "metadata": {},
     "output_type": "execute_result"
    }
   ],
   "source": [
    "car = транспорт.create(номер_машины = '999', марка = 'жигули', дата_регистрации = '11-03-2020', цвет = 'черный')\n",
    "car.save()\n",
    "sender = отправитель.create(код_отправителя = '122', фамилия= 'Борецкий', имя = 'Станислав', отчество = 'Игоревич', дата_рождения = '21-05-2001', индекс = '444', \n",
    "                          город = 'Калининград',  улица = 'Попова', дом = '1 ', квартира = '11', телефон = '8-900-111-11-11')\n",
    "sender.save()"
   ]
  },
  {
   "cell_type": "code",
   "execution_count": 31,
   "id": "7d4c1811-5ffc-4d48-93bb-8761356e94cc",
   "metadata": {},
   "outputs": [
    {
     "name": "stdout",
     "output_type": "stream",
     "text": [
      "Иванов\n",
      "Степанов\n"
     ]
    }
   ],
   "source": [
    "curier = курьер.select().first()\n",
    "print(curier.фамилия)\n",
    "recipient = получатель.select().first()\n",
    "print(recipient.фамилия)"
   ]
  },
  {
   "cell_type": "code",
   "execution_count": 32,
   "id": "dec50014-1dde-44f0-bdf6-a7be0f35081b",
   "metadata": {},
   "outputs": [
    {
     "data": {
      "text/plain": [
       "1"
      ]
     },
     "execution_count": 32,
     "metadata": {},
     "output_type": "execute_result"
    }
   ],
   "source": [
    "order = заказ.create(код_заказа = '555', отправитель = sender,получатель = recipient, дата_заказа = '29-11-2024', дата_доставки = '30-11-2024',\n",
    "                    цена_доставки = '100.12', курьер = curier, транспорт = car)\n",
    "order.save()\n"
   ]
  },
  {
   "cell_type": "code",
   "execution_count": 33,
   "id": "516a6047-4254-418a-8e6f-c3676a4d4eeb",
   "metadata": {},
   "outputs": [
    {
     "name": "stdout",
     "output_type": "stream",
     "text": [
      "Код заказа: 555\n",
      "Отправитель: Борецкий Станислав Игоревич\n",
      "Получатель: Степанов Степан Степанович\n",
      "Дата заказа: 29-11-2024\n",
      "Дата доставки: 30-11-2024\n",
      "Цена доставки: 100.12\n",
      "Курьер: Иванов Иван Иванович\n",
      "Транспорт: жигули, Цвет: черный\n"
     ]
    }
   ],
   "source": [
    "got_order = заказ.select().first()\n",
    "print(f\"Код заказа: {got_order.код_заказа}\")\n",
    "print(f\"Отправитель: {got_order.отправитель.фамилия} {got_order.отправитель.имя} {got_order.отправитель.отчество}\")\n",
    "print(f\"Получатель: {got_order.получатель.фамилия} {got_order.получатель.имя} {got_order.получатель.отчество}\")\n",
    "print(f\"Дата заказа: {got_order.дата_заказа}\")\n",
    "print(f\"Дата доставки: {got_order.дата_доставки}\")\n",
    "print(f\"Цена доставки: {got_order.цена_доставки}\")\n",
    "print(f\"Курьер: {got_order.курьер.фамилия} {got_order.курьер.имя} {got_order.курьер.отчество}\")\n",
    "print(f\"Транспорт: {got_order.транспорт.марка}, Цвет: {got_order.транспорт.цвет}\")"
   ]
  },
  {
   "cell_type": "code",
   "execution_count": null,
   "id": "0baa14a7-2cbf-4519-b03e-bf4309f58db5",
   "metadata": {},
   "outputs": [],
   "source": []
  }
 ],
 "metadata": {
  "kernelspec": {
   "display_name": "Python 3 (ipykernel)",
   "language": "python",
   "name": "python3"
  },
  "language_info": {
   "codemirror_mode": {
    "name": "ipython",
    "version": 3
   },
   "file_extension": ".py",
   "mimetype": "text/x-python",
   "name": "python",
   "nbconvert_exporter": "python",
   "pygments_lexer": "ipython3",
   "version": "3.12.5"
  }
 },
 "nbformat": 4,
 "nbformat_minor": 5
}
