{
 "cells": [
  {
   "cell_type": "code",
   "execution_count": 2,
   "id": "d23e2f8c-3be7-4663-a76c-b92dfd561f1b",
   "metadata": {},
   "outputs": [
    {
     "name": "stdout",
     "output_type": "stream",
     "text": [
      "Данные ATmega328:\n",
      "{'Flash (1 кБ flash-памяти занят загрузчиком)': '32 Кбайт', 'SRAM': '2 Кбайт', 'EEPROM': '1024 байт'}\n"
     ]
    }
   ],
   "source": [
    "from docx import Document\n",
    "\n",
    "doc = Document(\"ATmega_Memory.docx\")\n",
    "table = doc.tables[0] \n",
    "\n",
    "data_dict = {}\n",
    "headers = [cell.text for cell in table.rows[0].cells]  \n",
    "for row in table.rows[1:]:  \n",
    "    cells = [cell.text for cell in row.cells]\n",
    "    if cells[0]:  \n",
    "        data_dict[cells[0]] = cells[2] \n",
    "\n",
    "print(\"Данные ATmega328:\")\n",
    "print(data_dict)"
   ]
  },
  {
   "cell_type": "code",
   "execution_count": null,
   "id": "640ed9ce-9d53-4e42-b231-8d03133e1c1a",
   "metadata": {},
   "outputs": [],
   "source": []
  }
 ],
 "metadata": {
  "kernelspec": {
   "display_name": "Python 3 (ipykernel)",
   "language": "python",
   "name": "python3"
  },
  "language_info": {
   "codemirror_mode": {
    "name": "ipython",
    "version": 3
   },
   "file_extension": ".py",
   "mimetype": "text/x-python",
   "name": "python",
   "nbconvert_exporter": "python",
   "pygments_lexer": "ipython3",
   "version": "3.12.5"
  }
 },
 "nbformat": 4,
 "nbformat_minor": 5
}
