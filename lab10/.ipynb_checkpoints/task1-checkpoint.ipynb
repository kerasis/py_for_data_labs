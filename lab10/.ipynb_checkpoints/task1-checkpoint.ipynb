{
 "cells": [
  {
   "cell_type": "code",
   "execution_count": 1,
   "id": "36818fab-ca36-4367-b3f3-077728135f17",
   "metadata": {},
   "outputs": [
    {
     "name": "stdout",
     "output_type": "stream",
     "text": [
      "Collecting python-docx\n",
      "  Downloading python_docx-1.1.2-py3-none-any.whl.metadata (2.0 kB)\n",
      "Requirement already satisfied: lxml>=3.1.0 in c:\\users\\user\\appdata\\local\\programs\\python\\python312\\lib\\site-packages (from python-docx) (5.3.0)\n",
      "Requirement already satisfied: typing-extensions>=4.9.0 in c:\\users\\user\\appdata\\local\\programs\\python\\python312\\lib\\site-packages (from python-docx) (4.12.2)\n",
      "Downloading python_docx-1.1.2-py3-none-any.whl (244 kB)\n",
      "Installing collected packages: python-docx\n",
      "Successfully installed python-docx-1.1.2\n",
      "Note: you may need to restart the kernel to use updated packages.\n"
     ]
    },
    {
     "name": "stderr",
     "output_type": "stream",
     "text": [
      "\n",
      "[notice] A new release of pip is available: 24.2 -> 24.3.1\n",
      "[notice] To update, run: python.exe -m pip install --upgrade pip\n"
     ]
    }
   ],
   "source": [
    "%pip install python-docx"
   ]
  },
  {
   "cell_type": "code",
   "execution_count": 5,
   "id": "dad60a9a-7471-48a4-b339-eac62794109c",
   "metadata": {},
   "outputs": [],
   "source": [
    "from docx import Document\n",
    "from docx.shared import Pt\n",
    "from docx.oxml import OxmlElement\n",
    "from docx.enum.text import WD_PARAGRAPH_ALIGNMENT\n"
   ]
  },
  {
   "cell_type": "code",
   "execution_count": 6,
   "id": "ad44db69-967f-4146-b75c-dee5bda3c49d",
   "metadata": {},
   "outputs": [
    {
     "data": {
      "text/plain": [
       "<docx.text.paragraph.Paragraph at 0x289e0c9fa10>"
      ]
     },
     "execution_count": 6,
     "metadata": {},
     "output_type": "execute_result"
    }
   ],
   "source": [
    "doc = Document()\n",
    "\n",
    "doc.add_paragraph(\n",
    "    \"В микроконтроллерах ATmega, используемых на платформах Arduino, существует три вида памяти:\\n\"\n",
    ")\n",
    "\n",
    "content = [\n",
    "    \"Флеш-память: используется для хранения скетчей.\",\n",
    "    \"ОЗУ (SRAM — static random access memory, статическая оперативная память с произвольным доступом): используется для хранения и работы переменных.\",\n",
    "    \"EEPROM (энергонезависимая память): используется для хранения постоянной информации.\",\n",
    "]\n",
    "for item in content:\n",
    "    doc.add_paragraph(item, style='List Bullet')\n",
    "\n",
    "doc.add_paragraph(\n",
    "    \"Флеш-память и EEPROM являются энергонезависимыми видами памяти (данные сохраняются при отключении питания). \"\n",
    "    \"ОЗУ является энергозависимой памятью.\\n\"\n",
    ")"
   ]
  },
  {
   "cell_type": "code",
   "execution_count": 7,
   "id": "e86d56b1-1bcd-490c-a361-463749b139a1",
   "metadata": {},
   "outputs": [],
   "source": [
    "table = doc.add_table(rows=4, cols=5)\n",
    "table.style = 'Table Grid'\n",
    "\n",
    "headers = [\"\", \"ATmega168\", \"ATmega328\", \"ATmega1280\", \"ATmega2560\"]\n",
    "for col_idx, header in enumerate(headers):\n",
    "    #table.cell(0, col_idx).text = header\n",
    "    cell = table.cell(0, col_idx)\n",
    "    cell.text = header\n",
    "    cell.paragraphs[0].runs[0].bold = True \n",
    "    \n",
    "data = [\n",
    "    [\"Flash (1 кБ flash-памяти занят загрузчиком)\", \"16 Кбайт\", \"32 Кбайт\", \"128 Кбайт\", \"256 Кбайт\"],\n",
    "    [\"SRAM\", \"1 Кбайт\", \"2 Кбайт\", \"8 Кбайт\", \"8 Кбайт\"],\n",
    "    [\"EEPROM\", \"512 байт\", \"1024 байт\", \"4 Кбайт\", \"4 Кбайт\"],\n",
    "]\n",
    "\n",
    "for row_idx, row_data in enumerate(data, start=1):\n",
    "    for col_idx, value in enumerate(row_data):\n",
    "        cell = table.cell(row_idx, col_idx)\n",
    "        cell.text = value\n",
    "        if col_idx == 0: \n",
    "            cell.paragraphs[0].runs[0].bold = True  "
   ]
  },
  {
   "cell_type": "code",
   "execution_count": 8,
   "id": "6dcc16e8-d4d4-4543-a83d-4d3f0e784c77",
   "metadata": {},
   "outputs": [],
   "source": [
    "paragraph = doc.add_paragraph()\n",
    "run = paragraph.add_run(\n",
    "    \"Память EEPROM, по заявлениям производителей, обладает гарантированным жизненным циклом до 100 000 операций записи \"\n",
    "    \"и 100 лет хранения данных при температуре 25°C. \"\n",
    "    \"Поэтому в целях повышения стабильности и срока службы данных в EEPROM — чтение данных рекомендуется чаще, чем запись. \"\n",
    "    \"Также проектировать свои скетчи максимально щадящими по отношению к EEPROM.\"\n",
    ")\n",
    "run.italic = True\n",
    "\n",
    "doc.save(\"ATmega_Memory.docx\")"
   ]
  },
  {
   "cell_type": "code",
   "execution_count": null,
   "id": "08ebeaf3-f0ac-49a0-8e3d-9d8075b366e4",
   "metadata": {},
   "outputs": [],
   "source": []
  }
 ],
 "metadata": {
  "kernelspec": {
   "display_name": "Python 3 (ipykernel)",
   "language": "python",
   "name": "python3"
  },
  "language_info": {
   "codemirror_mode": {
    "name": "ipython",
    "version": 3
   },
   "file_extension": ".py",
   "mimetype": "text/x-python",
   "name": "python",
   "nbconvert_exporter": "python",
   "pygments_lexer": "ipython3",
   "version": "3.12.5"
  }
 },
 "nbformat": 4,
 "nbformat_minor": 5
}
