{
 "cells": [
  {
   "cell_type": "code",
   "execution_count": 2,
   "id": "ed3d7958-9dc1-4e5b-811e-9c861a0f17d3",
   "metadata": {},
   "outputs": [],
   "source": [
    "from docx import Document\n",
    "from docx.shared import Pt\n",
    "from docx.oxml import OxmlElement\n",
    "from docx.enum.text import WD_PARAGRAPH_ALIGNMENT\n",
    "\n",
    "doc = Document(\"ATmega_Memory.docx\") \n",
    "\n",
    "image_path = \"image.jpg\"  \n",
    "doc.add_picture(image_path, width=Pt(300))  \n",
    "caption = doc.add_paragraph(\"Рисунок 1. Память микроконтроллеров\")\n",
    "caption.alignment = WD_PARAGRAPH_ALIGNMENT.CENTER \n",
    "caption.runs[0].italic = True \n",
    "\n",
    "doc.save(\"ATmega_Memory_Image.docx\")"
   ]
  },
  {
   "cell_type": "code",
   "execution_count": null,
   "id": "c2c4157a-8814-49a9-bd6b-cb1197c304ec",
   "metadata": {},
   "outputs": [],
   "source": []
  },
  {
   "cell_type": "code",
   "execution_count": null,
   "id": "8add2de0-bffd-4e99-a8d3-6ccf9e1a5085",
   "metadata": {},
   "outputs": [],
   "source": []
  }
 ],
 "metadata": {
  "kernelspec": {
   "display_name": "Python 3 (ipykernel)",
   "language": "python",
   "name": "python3"
  },
  "language_info": {
   "codemirror_mode": {
    "name": "ipython",
    "version": 3
   },
   "file_extension": ".py",
   "mimetype": "text/x-python",
   "name": "python",
   "nbconvert_exporter": "python",
   "pygments_lexer": "ipython3",
   "version": "3.12.5"
  }
 },
 "nbformat": 4,
 "nbformat_minor": 5
}
